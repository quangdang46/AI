{
  "cells": [
    {
      "cell_type": "markdown",
      "metadata": {
        "id": "AdN_uf9Mex-d"
      },
      "source": [
        "Course: **Introduction to Artificial Intelligence** \\\n",
        "Lecturer: **Nguyen Thanh An** \\\n",
        "Lab 03: **Local Search**"
      ]
    },
    {
      "cell_type": "markdown",
      "metadata": {
        "id": "mm5b-FZhfA5H"
      },
      "source": [
        "Students implement Hill-Climbing Search, Local Beam Search, and Simulated Annealing Search algorithms following TODO 1 - 3. \\\n",
        "Students can add supporting attributes and methods to the three classes as needed."
      ]
    },
    {
      "cell_type": "markdown",
      "metadata": {
        "id": "9In-lpCRc7rc"
      },
      "source": [
        "# Libraries"
      ]
    },
    {
      "cell_type": "code",
      "execution_count": null,
      "metadata": {
        "id": "baZnzmhNW8KU"
      },
      "outputs": [],
      "source": [
        "import os\n",
        "import heapq"
      ]
    },
    {
      "cell_type": "markdown",
      "metadata": {
        "id": "Hm_qjIb4dB8a"
      },
      "source": [
        "# Graph class"
      ]
    },
    {
      "cell_type": "code",
      "execution_count": null,
      "metadata": {
        "id": "IBUbARThU6VK"
      },
      "outputs": [],
      "source": [
        "# Directed, weighted graphs\n",
        "class Graph:\n",
        "  def __init__(self):\n",
        "    self.AL = dict() # adjacency list\n",
        "    self.V = 0\n",
        "    self.E = 0\n",
        "    self.H = dict()\n",
        "\n",
        "  def __str__(self):\n",
        "    res = 'V: %d, E: %d\\n'%(self.V, self.E)\n",
        "    for u, neighbors in self.AL.items():\n",
        "      line = '%d: %s\\n'%(u, str(neighbors))\n",
        "      res += line\n",
        "    for u, h in self.H.items():\n",
        "      line = 'h(%d) = %d\\n'%(u, h)\n",
        "    return res\n",
        "\n",
        "  def print(self):\n",
        "    print(str(self))\n",
        "\n",
        "  def load_from_file(self, filename):\n",
        "    '''\n",
        "        Example input file:\n",
        "            V E\n",
        "            u v w\n",
        "            u v w\n",
        "            u v w\n",
        "            ...\n",
        "            u1 h1\n",
        "            u2 h2\n",
        "            u3 h3\n",
        "            ...\n",
        "\n",
        "        # input.txt\n",
        "        7 8\n",
        "        0 1 5 \n",
        "        0 2 6\n",
        "        1 3 12\n",
        "        1 4 9\n",
        "        2 5 5\n",
        "        3 5 8\n",
        "        3 6 7\n",
        "        4 6 4\n",
        "        0 14\n",
        "        1 13\n",
        "        2 12\n",
        "        3 11\n",
        "        4 10\n",
        "        5 9\n",
        "        6 0\n",
        "    '''\n",
        "    if os.path.exists(filename):\n",
        "      with open(filename) as g:\n",
        "        self.V, self.E = [int(it) for it in g.readline().split()]\n",
        "        for i in range(self.E):\n",
        "          line = g.readline()\n",
        "          u, v, w = [int(it) for it in line.strip().split()]\n",
        "          if u not in self.AL:\n",
        "            self.AL[u] = []\n",
        "          self.AL[u].append((v, w))\n",
        "        for i in range(self.V):\n",
        "          line = g.readline()\n",
        "          u, h = [int(it) for it in line.strip().split()]\n",
        "          self.H[u] = h"
      ]
    },
    {
      "cell_type": "code",
      "execution_count": null,
      "metadata": {
        "colab": {
          "base_uri": "https://localhost:8080/"
        },
        "id": "k_3EmSFKXtwk",
        "outputId": "a3452b01-fec7-43d9-df26-89ed6a31cbd9"
      },
      "outputs": [
        {
          "name": "stdout",
          "output_type": "stream",
          "text": [
            "V: 0, E: 0\n",
            "\n"
          ]
        }
      ],
      "source": [
        "g = Graph()\n",
        "g.load_from_file('input.txt')\n",
        "g.print()"
      ]
    },
    {
      "cell_type": "markdown",
      "metadata": {
        "id": "95fgste5dFp0"
      },
      "source": [
        "# Search Strategies"
      ]
    },
    {
      "cell_type": "code",
      "execution_count": null,
      "metadata": {
        "id": "DjEuaXToYqk6"
      },
      "outputs": [],
      "source": [
        "class LocalSearchStrategy:\n",
        "  def search(self, g: Graph, src: int) -> tuple:\n",
        "    '''\n",
        "    return a tuple (u, p) in which\n",
        "      u: the local maximum state\n",
        "      p: the priority/weight/desirability/cost of u\n",
        "    '''\n",
        "    u=src\n",
        "    p=g.H[u]\n",
        "    for v,w in g.AL[u]:\n",
        "      if g.H[v]+w>p:\n",
        "        u=v\n",
        "        p=g.H[v]+w\n",
        "    return (u,p)"
      ]
    },
    {
      "cell_type": "code",
      "execution_count": null,
      "metadata": {
        "id": "Iax-_lNJZcQc"
      },
      "outputs": [],
      "source": [
        "class HillClimbingSearch(LocalSearchStrategy):\n",
        "  def search(self, g: Graph, src: int) -> tuple:\n",
        "    '''\n",
        "    return a tuple (u, p) in which\n",
        "      u: the local maximum state\n",
        "      p: the priority/weight/desirability/cost of u\n",
        "\n",
        "    Note: weight of a node u = path_cost to u + heuristic value of u (similar to A*)\n",
        "    '''\n",
        "    u=src\n",
        "    p=g.H[u]\n",
        "    while True:\n",
        "      if u not in g.AL:\n",
        "        break\n",
        "      for v,w in g.AL[u]:\n",
        "        if g.H[v]+w>p:\n",
        "          u=v\n",
        "          p=g.H[v]+w\n",
        "          break\n",
        "      else:\n",
        "        break\n",
        "    return (u,p)"
      ]
    },
    {
      "cell_type": "code",
      "execution_count": null,
      "metadata": {
        "id": "b3aVMO8YxGC9"
      },
      "outputs": [],
      "source": [
        "class LocalBeamSearch(LocalSearchStrategy):\n",
        "  def search(self, g: Graph, src: int) -> tuple:\n",
        "    '''\n",
        "    return a tuple (u, p) in which\n",
        "      u: the local maximum state\n",
        "      p: the priority/weight/desirability/cost of u\n",
        "\n",
        "    Note:\n",
        "    - weight of a node u = path_cost to u + heuristic value of u (similar to A*)\n",
        "    - parameter n is provided in the constructor\n",
        "    '''\n",
        "    states = [(g.H[src], src)]\n",
        "    heapq.heapify(states)\n",
        "    while states:\n",
        "      p, u = heapq.heappop(states)\n",
        "      if u not in g.AL:\n",
        "        break\n",
        "      for v, w in g.AL[u]:\n",
        "        heapq.heappush(states, (p + w + g.H[v], v))\n",
        "    return (u, p)"
      ]
    },
    {
      "cell_type": "code",
      "execution_count": null,
      "metadata": {
        "id": "OMwlpNHcxGYl"
      },
      "outputs": [],
      "source": [
        "class SimulatedAnnealingSearch(LocalSearchStrategy):\n",
        "  def search(self, g: Graph, src: int) -> tuple:\n",
        "    '''\n",
        "    return a tuple (u, p) in which\n",
        "      u: the local maximum state\n",
        "      p: the priority/weight/desirability/cost of u\n",
        "\n",
        "    Note: schedule(t) = 1/(t^2) with t is the iteration step\n",
        "    '''\n",
        "    u = src\n",
        "    p = g.H[u]\n",
        "    t = 1\n",
        "    while True:\n",
        "      if u not in g.AL:\n",
        "        break\n",
        "      for v, w in g.AL[u]:\n",
        "        if g.H[v] + w > p:\n",
        "          u = v\n",
        "          p = g.H[v] + w\n",
        "          break\n",
        "      else:\n",
        "        for v, w in g.AL[u]:\n",
        "          if g.H[v] + w > p - 1 / t ** 2:\n",
        "            u = v\n",
        "            p = g.H[v] + w\n",
        "            break\n",
        "        else:\n",
        "          break\n",
        "      t += 1\n",
        "    return (u, p)"
      ]
    },
    {
      "cell_type": "markdown",
      "metadata": {
        "id": "hzWhWbDMdItW"
      },
      "source": [
        "# Evaluation"
      ]
    },
    {
      "cell_type": "code",
      "execution_count": null,
      "metadata": {
        "colab": {
          "base_uri": "https://localhost:8080/"
        },
        "id": "kI0wFSGuaKeT",
        "outputId": "132bd465-cec5-436d-fd07-2061b825d1ef"
      },
      "outputs": [
        {
          "name": "stdout",
          "output_type": "stream",
          "text": [
            "<__main__.HillClimbingSearch object at 0x7fbd30164850>\n",
            "None None\n",
            "<__main__.LocalBeamSearch object at 0x7fbd301640d0>\n",
            "None None\n",
            "<__main__.SimulatedAnnealingSearch object at 0x7fbd30164a90>\n",
            "None None\n"
          ]
        }
      ],
      "source": [
        "hcs = HillClimbingSearch()\n",
        "lbs = LocalBeamSearch()\n",
        "sas = SimulatedAnnealingSearch()\n",
        "\n",
        "for stg in [hcs, lbs, sas]:\n",
        "  print(stg)\n",
        "  u, p = stg.search(g, 0)\n",
        "  print(u, p)"
      ]
    },
    {
      "cell_type": "markdown",
      "metadata": {
        "id": "95erCQsOdTfL"
      },
      "source": [
        "# Submission Notice\n",
        "\n",
        "\n",
        "*   Maintain all cell outputs\n",
        "*   Download and rename the notebook as **lab03_\\<Student ID\\>.ipynb**\n",
        "*   Submit by the deadline\n"
      ]
    }
  ],
  "metadata": {
    "colab": {
      "provenance": []
    },
    "kernelspec": {
      "display_name": "Python 3",
      "language": "python",
      "name": "python3"
    },
    "language_info": {
      "name": "python",
      "version": "3.10.5"
    },
    "vscode": {
      "interpreter": {
        "hash": "a42ccb73e7d9bfdf27e036f1d2b8b681e55fc0743cc5586bc2474d4a60f4b886"
      }
    }
  },
  "nbformat": 4,
  "nbformat_minor": 0
}
